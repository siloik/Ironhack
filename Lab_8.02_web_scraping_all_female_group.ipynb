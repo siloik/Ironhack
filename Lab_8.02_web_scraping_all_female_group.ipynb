{
 "cells": [
  {
   "cell_type": "markdown",
   "metadata": {},
   "source": [
    "# Lab | Web Scraping Single Page"
   ]
  },
  {
   "cell_type": "code",
   "execution_count": 96,
   "metadata": {},
   "outputs": [],
   "source": [
    "from bs4 import BeautifulSoup\n",
    "import requests\n",
    "import pandas as pd\n",
    "from tqdm.notebook import tqdm"
   ]
  },
  {
   "cell_type": "code",
   "execution_count": 97,
   "metadata": {},
   "outputs": [],
   "source": [
    "from bs4 import BeautifulSoup\n",
    "import requests\n",
    "import pandas as pd\n",
    "\n",
    "url = \"https://www.billboard.com/charts/hot-100\""
   ]
  },
  {
   "cell_type": "code",
   "execution_count": 98,
   "metadata": {},
   "outputs": [],
   "source": [
    "response = requests.get(url)"
   ]
  },
  {
   "cell_type": "code",
   "execution_count": 99,
   "metadata": {},
   "outputs": [
    {
     "data": {
      "text/plain": [
       "200"
      ]
     },
     "execution_count": 99,
     "metadata": {},
     "output_type": "execute_result"
    }
   ],
   "source": [
    "response.status_code"
   ]
  },
  {
   "cell_type": "code",
   "execution_count": 100,
   "metadata": {},
   "outputs": [],
   "source": [
    "soup = BeautifulSoup(response.content, \"html.parser\")"
   ]
  },
  {
   "cell_type": "code",
   "execution_count": 101,
   "metadata": {},
   "outputs": [
    {
     "name": "stderr",
     "output_type": "stream",
     "text": [
      "IOPub data rate exceeded.\n",
      "The notebook server will temporarily stop sending output\n",
      "to the client in order to avoid crashing it.\n",
      "To change this limit, set the config variable\n",
      "`--NotebookApp.iopub_data_rate_limit`.\n",
      "\n",
      "Current values:\n",
      "NotebookApp.iopub_data_rate_limit=1000000.0 (bytes/sec)\n",
      "NotebookApp.rate_limit_window=3.0 (secs)\n",
      "\n"
     ]
    }
   ],
   "source": [
    "print(soup.prettify())"
   ]
  },
  {
   "cell_type": "code",
   "execution_count": 102,
   "metadata": {},
   "outputs": [
    {
     "data": {
      "application/vnd.jupyter.widget-view+json": {
       "model_id": "8e89aa691f1542a48aeb8b43a48a0b4e",
       "version_major": 2,
       "version_minor": 0
      },
      "text/plain": [
       "HBox(children=(HTML(value=''), FloatProgress(value=0.0), HTML(value='')))"
      ]
     },
     "metadata": {},
     "output_type": "display_data"
    },
    {
     "name": "stdout",
     "output_type": "stream",
     "text": [
      "\n"
     ]
    }
   ],
   "source": [
    "songs=[]\n",
    "for i in tqdm(soup.select('li span.chart-element__information__song')):\n",
    "    songs.append(i.get_text())"
   ]
  },
  {
   "cell_type": "code",
   "execution_count": 103,
   "metadata": {},
   "outputs": [
    {
     "data": {
      "application/vnd.jupyter.widget-view+json": {
       "model_id": "be9147ff974648cf82bc39c9c7caa9a8",
       "version_major": 2,
       "version_minor": 0
      },
      "text/plain": [
       "HBox(children=(HTML(value=''), FloatProgress(value=0.0), HTML(value='')))"
      ]
     },
     "metadata": {},
     "output_type": "display_data"
    },
    {
     "name": "stdout",
     "output_type": "stream",
     "text": [
      "\n"
     ]
    }
   ],
   "source": [
    "artists=[]\n",
    "for i in tqdm(soup.select('li span.chart-element__information__artist')):\n",
    "    artists.append(i.get_text())"
   ]
  },
  {
   "cell_type": "code",
   "execution_count": 104,
   "metadata": {},
   "outputs": [],
   "source": [
    "df = pd.DataFrame({'songs': songs, 'artists': artists})"
   ]
  },
  {
   "cell_type": "code",
   "execution_count": 156,
   "metadata": {},
   "outputs": [],
   "source": [
    "df = df.rename(columns={'songs': 'title', 'artists': 'artists'})"
   ]
  },
  {
   "cell_type": "code",
   "execution_count": 157,
   "metadata": {},
   "outputs": [
    {
     "data": {
      "text/html": [
       "<div>\n",
       "<style scoped>\n",
       "    .dataframe tbody tr th:only-of-type {\n",
       "        vertical-align: middle;\n",
       "    }\n",
       "\n",
       "    .dataframe tbody tr th {\n",
       "        vertical-align: top;\n",
       "    }\n",
       "\n",
       "    .dataframe thead th {\n",
       "        text-align: right;\n",
       "    }\n",
       "</style>\n",
       "<table border=\"1\" class=\"dataframe\">\n",
       "  <thead>\n",
       "    <tr style=\"text-align: right;\">\n",
       "      <th></th>\n",
       "      <th>title</th>\n",
       "      <th>artists</th>\n",
       "    </tr>\n",
       "  </thead>\n",
       "  <tbody>\n",
       "    <tr>\n",
       "      <th>0</th>\n",
       "      <td>Drivers License</td>\n",
       "      <td>Olivia Rodrigo</td>\n",
       "    </tr>\n",
       "    <tr>\n",
       "      <th>1</th>\n",
       "      <td>Up</td>\n",
       "      <td>Cardi B</td>\n",
       "    </tr>\n",
       "    <tr>\n",
       "      <th>2</th>\n",
       "      <td>Blinding Lights</td>\n",
       "      <td>The Weeknd</td>\n",
       "    </tr>\n",
       "    <tr>\n",
       "      <th>3</th>\n",
       "      <td>Save Your Tears</td>\n",
       "      <td>The Weeknd</td>\n",
       "    </tr>\n",
       "    <tr>\n",
       "      <th>4</th>\n",
       "      <td>Mood</td>\n",
       "      <td>24kGoldn Featuring iann dior</td>\n",
       "    </tr>\n",
       "    <tr>\n",
       "      <th>...</th>\n",
       "      <td>...</td>\n",
       "      <td>...</td>\n",
       "    </tr>\n",
       "    <tr>\n",
       "      <th>95</th>\n",
       "      <td>Almost Maybes</td>\n",
       "      <td>Jordan Davis</td>\n",
       "    </tr>\n",
       "    <tr>\n",
       "      <th>96</th>\n",
       "      <td>Masterpiece</td>\n",
       "      <td>DaBaby</td>\n",
       "    </tr>\n",
       "    <tr>\n",
       "      <th>97</th>\n",
       "      <td>Prisoner</td>\n",
       "      <td>Miley Cyrus Featuring Dua Lipa</td>\n",
       "    </tr>\n",
       "    <tr>\n",
       "      <th>98</th>\n",
       "      <td>Skin</td>\n",
       "      <td>Sabrina Carpenter</td>\n",
       "    </tr>\n",
       "    <tr>\n",
       "      <th>99</th>\n",
       "      <td>Quicksand</td>\n",
       "      <td>Morray</td>\n",
       "    </tr>\n",
       "  </tbody>\n",
       "</table>\n",
       "<p>100 rows × 2 columns</p>\n",
       "</div>"
      ],
      "text/plain": [
       "              title                         artists\n",
       "0   Drivers License                  Olivia Rodrigo\n",
       "1                Up                         Cardi B\n",
       "2   Blinding Lights                      The Weeknd\n",
       "3   Save Your Tears                      The Weeknd\n",
       "4              Mood    24kGoldn Featuring iann dior\n",
       "..              ...                             ...\n",
       "95    Almost Maybes                    Jordan Davis\n",
       "96      Masterpiece                          DaBaby\n",
       "97         Prisoner  Miley Cyrus Featuring Dua Lipa\n",
       "98             Skin               Sabrina Carpenter\n",
       "99        Quicksand                          Morray\n",
       "\n",
       "[100 rows x 2 columns]"
      ]
     },
     "execution_count": 157,
     "metadata": {},
     "output_type": "execute_result"
    }
   ],
   "source": [
    "df"
   ]
  },
  {
   "cell_type": "markdown",
   "metadata": {},
   "source": [
    "## Lab 8.02"
   ]
  },
  {
   "cell_type": "code",
   "execution_count": 158,
   "metadata": {},
   "outputs": [],
   "source": [
    "url1 = (\"https://spotifycharts.com/viral/\")"
   ]
  },
  {
   "cell_type": "code",
   "execution_count": 159,
   "metadata": {},
   "outputs": [],
   "source": [
    "response = requests.get(url1)"
   ]
  },
  {
   "cell_type": "code",
   "execution_count": 160,
   "metadata": {},
   "outputs": [
    {
     "data": {
      "text/plain": [
       "200"
      ]
     },
     "execution_count": 160,
     "metadata": {},
     "output_type": "execute_result"
    }
   ],
   "source": [
    "response.status_code"
   ]
  },
  {
   "cell_type": "code",
   "execution_count": 161,
   "metadata": {},
   "outputs": [],
   "source": [
    "soup1 = BeautifulSoup(response.content, \"html.parser\")"
   ]
  },
  {
   "cell_type": "code",
   "execution_count": 162,
   "metadata": {},
   "outputs": [
    {
     "data": {
      "text/plain": [
       "[<strong>Wellerman - Sea Shanty / 220 KID x Billen Ted Remix</strong>]"
      ]
     },
     "execution_count": 162,
     "metadata": {},
     "output_type": "execute_result"
    }
   ],
   "source": [
    "#get all artist names 1st try\n",
    "soup1.select(\"#content > div > div > div > span > table > tbody > tr:nth-child(1) > td.chart-table-track > strong\")\n"
   ]
  },
  {
   "cell_type": "markdown",
   "metadata": {},
   "source": [
    "#content > div > div > div > span > table > tbody > tr:nth-child(1) > td.chart-table-track > strong"
   ]
  },
  {
   "cell_type": "code",
   "execution_count": 163,
   "metadata": {},
   "outputs": [
    {
     "data": {
      "text/plain": [
       "'Wellerman - Sea Shanty / 220 KID x Billen Ted Remix'"
      ]
     },
     "execution_count": 163,
     "metadata": {},
     "output_type": "execute_result"
    }
   ],
   "source": [
    "#get all song names 1st try\n",
    "soup1.select(\"tbody > tr:nth-child(1) > td.chart-table-track > strong\")[0].get_text()"
   ]
  },
  {
   "cell_type": "code",
   "execution_count": 164,
   "metadata": {},
   "outputs": [
    {
     "data": {
      "text/plain": [
       "[<span>by Nathan Evans</span>]"
      ]
     },
     "execution_count": 164,
     "metadata": {},
     "output_type": "execute_result"
    }
   ],
   "source": [
    "#get all artist 1st try\n",
    "soup1.select(\"#content > div > div > div > span > table > tbody > tr:nth-child(1) > td.chart-table-track > span\")"
   ]
  },
  {
   "cell_type": "code",
   "execution_count": 165,
   "metadata": {},
   "outputs": [],
   "source": [
    "len_table = len(soup.select(\"tbody > tr\"))"
   ]
  },
  {
   "cell_type": "code",
   "execution_count": 166,
   "metadata": {},
   "outputs": [
    {
     "data": {
      "text/plain": [
       "[<th class=\"chart-table-track\">Track</th>,\n",
       " <td class=\"chart-table-track\">\n",
       " <strong>Wellerman - Sea Shanty / 220 KID x Billen Ted Remix</strong>\n",
       " <span>by Nathan Evans</span>\n",
       " </td>,\n",
       " <td class=\"chart-table-track\">\n",
       " <strong>Wellerman - Sea Shanty</strong>\n",
       " <span>by Nathan Evans</span>\n",
       " </td>,\n",
       " <td class=\"chart-table-track\">\n",
       " <strong>SugarCrash!</strong>\n",
       " <span>by ElyOtto</span>\n",
       " </td>,\n",
       " <td class=\"chart-table-track\">\n",
       " <strong>Astronaut In The Ocean</strong>\n",
       " <span>by Masked Wolf</span>\n",
       " </td>,\n",
       " <td class=\"chart-table-track\">\n",
       " <strong>HEARTBREAK ANNIVERSARY</strong>\n",
       " <span>by Giveon</span>\n",
       " </td>,\n",
       " <td class=\"chart-table-track\">\n",
       " <strong>Kota</strong>\n",
       " <span>by Dere</span>\n",
       " </td>,\n",
       " <td class=\"chart-table-track\">\n",
       " <strong>Tokyo</strong>\n",
       " <span>by Leat'eq</span>\n",
       " </td>,\n",
       " <td class=\"chart-table-track\">\n",
       " <strong>telepatía</strong>\n",
       " <span>by Kali Uchis</span>\n",
       " </td>,\n",
       " <td class=\"chart-table-track\">\n",
       " <strong>I'm Missing You</strong>\n",
       " <span>by Sunjae</span>\n",
       " </td>,\n",
       " <td class=\"chart-table-track\">\n",
       " <strong>Starlight</strong>\n",
       " <span>by CHA NI (SF9)</span>\n",
       " </td>,\n",
       " <td class=\"chart-table-track\">\n",
       " <strong>Weak</strong>\n",
       " <span>by Larissa Lambert</span>\n",
       " </td>,\n",
       " <td class=\"chart-table-track\">\n",
       " <strong>So Pretty</strong>\n",
       " <span>by Reyanna Maria</span>\n",
       " </td>,\n",
       " <td class=\"chart-table-track\">\n",
       " <strong>Tapão Na Raba</strong>\n",
       " <span>by Raí Saia Rodada</span>\n",
       " </td>,\n",
       " <td class=\"chart-table-track\">\n",
       " <strong>Deus Me Proteja</strong>\n",
       " <span>by Chico César</span>\n",
       " </td>,\n",
       " <td class=\"chart-table-track\">\n",
       " <strong>C.H.R.I.S.Y.E.</strong>\n",
       " <span>by Diskoria, Laleilmanino, Eva Celia</span>\n",
       " </td>,\n",
       " <td class=\"chart-table-track\">\n",
       " <strong>Tomboy</strong>\n",
       " <span>by Destiny Rogers</span>\n",
       " </td>,\n",
       " <td class=\"chart-table-track\">\n",
       " <strong>ROLLIN N CONTROLLIN FREESTYLE</strong>\n",
       " <span>by DUSTY LOCANE</span>\n",
       " </td>,\n",
       " <td class=\"chart-table-track\">\n",
       " <strong>drivers license</strong>\n",
       " <span>by Olivia Rodrigo</span>\n",
       " </td>,\n",
       " <td class=\"chart-table-track\">\n",
       " <strong>Kül</strong>\n",
       " <span>by Cem Adrian, Mark Eliyahu</span>\n",
       " </td>,\n",
       " <td class=\"chart-table-track\">\n",
       " <strong>Ghalat Fehmi - From \"Superstar\"</strong>\n",
       " <span>by Asim Azhar, Zenab Fatimah Sultan</span>\n",
       " </td>,\n",
       " <td class=\"chart-table-track\">\n",
       " <strong>I'm not Pretty</strong>\n",
       " <span>by JESSIA</span>\n",
       " </td>,\n",
       " <td class=\"chart-table-track\">\n",
       " <strong>Believe Me</strong>\n",
       " <span>by Navos</span>\n",
       " </td>,\n",
       " <td class=\"chart-table-track\">\n",
       " <strong>Hadal Ahbek</strong>\n",
       " <span>by Issam Alnajjar</span>\n",
       " </td>,\n",
       " <td class=\"chart-table-track\">\n",
       " <strong>LA CANZONE NOSTRA ⟁ ︎(con BLANCO &amp; SALMO)</strong>\n",
       " <span>by MACE</span>\n",
       " </td>,\n",
       " <td class=\"chart-table-track\">\n",
       " <strong>Subwoofer</strong>\n",
       " <span>by SHINSKY x DIMA</span>\n",
       " </td>,\n",
       " <td class=\"chart-table-track\">\n",
       " <strong>Friday (feat. Mufasa &amp; Hypeman) - Dopamine Re-Edit</strong>\n",
       " <span>by Riton, Nightcrawlers</span>\n",
       " </td>,\n",
       " <td class=\"chart-table-track\">\n",
       " <strong>Pierre</strong>\n",
       " <span>by Ryn Weaver</span>\n",
       " </td>,\n",
       " <td class=\"chart-table-track\">\n",
       " <strong>Esquema Preferido</strong>\n",
       " <span>by DJ Ivis, Tarcísio do Acordeon</span>\n",
       " </td>,\n",
       " <td class=\"chart-table-track\">\n",
       " <strong>Your Love (9PM)</strong>\n",
       " <span>by ATB, Topic, A7S</span>\n",
       " </td>,\n",
       " <td class=\"chart-table-track\">\n",
       " <strong>Xerecard</strong>\n",
       " <span>by Jeff Costa, Mc Danny</span>\n",
       " </td>,\n",
       " <td class=\"chart-table-track\">\n",
       " <strong>Hylander</strong>\n",
       " <span>by Abbot, somynem.grin</span>\n",
       " </td>,\n",
       " <td class=\"chart-table-track\">\n",
       " <strong>Do A Bitch</strong>\n",
       " <span>by Kali</span>\n",
       " </td>,\n",
       " <td class=\"chart-table-track\">\n",
       " <strong>Palma da Mão no Chão</strong>\n",
       " <span>by Gil Bala</span>\n",
       " </td>,\n",
       " <td class=\"chart-table-track\">\n",
       " <strong>Knock Knock</strong>\n",
       " <span>by SoFaygo</span>\n",
       " </td>,\n",
       " <td class=\"chart-table-track\">\n",
       " <strong>Panalo (Trap Cariñosa)</strong>\n",
       " <span>by Ez Mil</span>\n",
       " </td>,\n",
       " <td class=\"chart-table-track\">\n",
       " <strong>Violent</strong>\n",
       " <span>by carolesdaughter</span>\n",
       " </td>,\n",
       " <td class=\"chart-table-track\">\n",
       " <strong>Blue Jeans</strong>\n",
       " <span>by GANGGA</span>\n",
       " </td>,\n",
       " <td class=\"chart-table-track\">\n",
       " <strong>VIVID VICE</strong>\n",
       " <span>by Who-ya Extended</span>\n",
       " </td>,\n",
       " <td class=\"chart-table-track\">\n",
       " <strong>Jealous</strong>\n",
       " <span>by Eyedress</span>\n",
       " </td>,\n",
       " <td class=\"chart-table-track\">\n",
       " <strong>Streets</strong>\n",
       " <span>by Doja Cat</span>\n",
       " </td>,\n",
       " <td class=\"chart-table-track\">\n",
       " <strong>Save Your Tears</strong>\n",
       " <span>by The Weeknd</span>\n",
       " </td>,\n",
       " <td class=\"chart-table-track\">\n",
       " <strong>Throat Baby (Go Baby) (with DaBaby &amp; City Girls) - Remix</strong>\n",
       " <span>by BRS Kash</span>\n",
       " </td>,\n",
       " <td class=\"chart-table-track\">\n",
       " <strong>I Am (feat. Flo Milli)</strong>\n",
       " <span>by Yung Baby Tate, Slade Da Monsta</span>\n",
       " </td>,\n",
       " <td class=\"chart-table-track\">\n",
       " <strong>Mi Trokita Cumbia</strong>\n",
       " <span>by Obzesion</span>\n",
       " </td>,\n",
       " <td class=\"chart-table-track\">\n",
       " <strong>Paparazzi</strong>\n",
       " <span>by Kim Dracula</span>\n",
       " </td>,\n",
       " <td class=\"chart-table-track\">\n",
       " <strong>Als Ik Je Weer Zie</strong>\n",
       " <span>by Thomas Acda, Paul de Munnik, Maan, Typhoon</span>\n",
       " </td>,\n",
       " <td class=\"chart-table-track\">\n",
       " <strong>Saturno</strong>\n",
       " <span>by BIN, Mainstreet, Ajaxx</span>\n",
       " </td>,\n",
       " <td class=\"chart-table-track\">\n",
       " <strong>Best Friend (feat. Doja Cat)</strong>\n",
       " <span>by Saweetie</span>\n",
       " </td>,\n",
       " <td class=\"chart-table-track\">\n",
       " <strong>Brown Munde</strong>\n",
       " <span>by AP Dhillon, Gminxr, Gurinder Gill, Shinda Kahlon</span>\n",
       " </td>,\n",
       " <td class=\"chart-table-track\">\n",
       " <strong>Katakan Saja</strong>\n",
       " <span>by Khifnu</span>\n",
       " </td>]"
      ]
     },
     "execution_count": 166,
     "metadata": {},
     "output_type": "execute_result"
    }
   ],
   "source": [
    "#get all songs and artists\n",
    "soup1.find_all(class_=\"chart-table-track\")"
   ]
  },
  {
   "cell_type": "code",
   "execution_count": null,
   "metadata": {},
   "outputs": [],
   "source": []
  },
  {
   "cell_type": "code",
   "execution_count": 167,
   "metadata": {},
   "outputs": [],
   "source": [
    "songs1 = []\n",
    "for i in range(51):\n",
    "    soup1.find_all(class_=\"chart-table-track\")[i].get_text()\n",
    "    songs1.append(soup1.find_all(class_=\"chart-table-track\")[i].get_text().strip().split('\\nby'))\n"
   ]
  },
  {
   "cell_type": "code",
   "execution_count": 168,
   "metadata": {},
   "outputs": [
    {
     "data": {
      "text/plain": [
       "[['Track'],\n",
       " ['Wellerman - Sea Shanty / 220 KID x Billen Ted Remix', ' Nathan Evans'],\n",
       " ['Wellerman - Sea Shanty', ' Nathan Evans'],\n",
       " ['SugarCrash!', ' ElyOtto'],\n",
       " ['Astronaut In The Ocean', ' Masked Wolf'],\n",
       " ['HEARTBREAK ANNIVERSARY', ' Giveon'],\n",
       " ['Kota', ' Dere'],\n",
       " ['Tokyo', \" Leat'eq\"],\n",
       " ['telepatía', ' Kali Uchis'],\n",
       " [\"I'm Missing You\", ' Sunjae'],\n",
       " ['Starlight', ' CHA NI (SF9)'],\n",
       " ['Weak', ' Larissa Lambert'],\n",
       " ['So Pretty', ' Reyanna Maria'],\n",
       " ['Tapão Na Raba', ' Raí Saia Rodada'],\n",
       " ['Deus Me Proteja', ' Chico César'],\n",
       " ['C.H.R.I.S.Y.E.', ' Diskoria, Laleilmanino, Eva Celia'],\n",
       " ['Tomboy', ' Destiny Rogers'],\n",
       " ['ROLLIN N CONTROLLIN FREESTYLE', ' DUSTY LOCANE'],\n",
       " ['drivers license', ' Olivia Rodrigo'],\n",
       " ['Kül', ' Cem Adrian, Mark Eliyahu'],\n",
       " ['Ghalat Fehmi - From \"Superstar\"', ' Asim Azhar, Zenab Fatimah Sultan'],\n",
       " [\"I'm not Pretty\", ' JESSIA'],\n",
       " ['Believe Me', ' Navos'],\n",
       " ['Hadal Ahbek', ' Issam Alnajjar'],\n",
       " ['LA CANZONE NOSTRA ⟁ ︎(con BLANCO & SALMO)', ' MACE'],\n",
       " ['Subwoofer', ' SHINSKY x DIMA'],\n",
       " ['Friday (feat. Mufasa & Hypeman) - Dopamine Re-Edit',\n",
       "  ' Riton, Nightcrawlers'],\n",
       " ['Pierre', ' Ryn Weaver'],\n",
       " ['Esquema Preferido', ' DJ Ivis, Tarcísio do Acordeon'],\n",
       " ['Your Love (9PM)', ' ATB, Topic, A7S'],\n",
       " ['Xerecard', ' Jeff Costa, Mc Danny'],\n",
       " ['Hylander', ' Abbot, somynem.grin'],\n",
       " ['Do A Bitch', ' Kali'],\n",
       " ['Palma da Mão no Chão', ' Gil Bala'],\n",
       " ['Knock Knock', ' SoFaygo'],\n",
       " ['Panalo (Trap Cariñosa)', ' Ez Mil'],\n",
       " ['Violent', ' carolesdaughter'],\n",
       " ['Blue Jeans', ' GANGGA'],\n",
       " ['VIVID VICE', ' Who-ya Extended'],\n",
       " ['Jealous', ' Eyedress'],\n",
       " ['Streets', ' Doja Cat'],\n",
       " ['Save Your Tears', ' The Weeknd'],\n",
       " ['Throat Baby (Go Baby) (with DaBaby & City Girls) - Remix', ' BRS Kash'],\n",
       " ['I Am (feat. Flo Milli)', ' Yung Baby Tate, Slade Da Monsta'],\n",
       " ['Mi Trokita Cumbia', ' Obzesion'],\n",
       " ['Paparazzi', ' Kim Dracula'],\n",
       " ['Als Ik Je Weer Zie', ' Thomas Acda, Paul de Munnik, Maan, Typhoon'],\n",
       " ['Saturno', ' BIN, Mainstreet, Ajaxx'],\n",
       " ['Best Friend (feat. Doja Cat)', ' Saweetie'],\n",
       " ['Brown Munde', ' AP Dhillon, Gminxr, Gurinder Gill, Shinda Kahlon'],\n",
       " ['Katakan Saja', ' Khifnu']]"
      ]
     },
     "execution_count": 168,
     "metadata": {},
     "output_type": "execute_result"
    }
   ],
   "source": [
    "songs1"
   ]
  },
  {
   "cell_type": "code",
   "execution_count": 169,
   "metadata": {},
   "outputs": [],
   "source": [
    "songs_new = [item[0] for item in songs1]"
   ]
  },
  {
   "cell_type": "code",
   "execution_count": 170,
   "metadata": {},
   "outputs": [
    {
     "data": {
      "text/plain": [
       "'Track'"
      ]
     },
     "execution_count": 170,
     "metadata": {},
     "output_type": "execute_result"
    }
   ],
   "source": [
    "songs_new.pop(0)"
   ]
  },
  {
   "cell_type": "code",
   "execution_count": 171,
   "metadata": {},
   "outputs": [
    {
     "data": {
      "text/plain": [
       "50"
      ]
     },
     "execution_count": 171,
     "metadata": {},
     "output_type": "execute_result"
    }
   ],
   "source": [
    "len(songs_new)"
   ]
  },
  {
   "cell_type": "code",
   "execution_count": 176,
   "metadata": {},
   "outputs": [],
   "source": [
    "artists_new = [item[-1] for item in songs1]"
   ]
  },
  {
   "cell_type": "code",
   "execution_count": 177,
   "metadata": {},
   "outputs": [
    {
     "data": {
      "text/plain": [
       "'Track'"
      ]
     },
     "execution_count": 177,
     "metadata": {},
     "output_type": "execute_result"
    }
   ],
   "source": [
    "artists_new.pop(0)"
   ]
  },
  {
   "cell_type": "code",
   "execution_count": 174,
   "metadata": {},
   "outputs": [
    {
     "data": {
      "text/plain": [
       "50"
      ]
     },
     "execution_count": 174,
     "metadata": {},
     "output_type": "execute_result"
    }
   ],
   "source": [
    "len(artists_new)"
   ]
  },
  {
   "cell_type": "code",
   "execution_count": 178,
   "metadata": {},
   "outputs": [],
   "source": [
    "table = pd.DataFrame({'title' : songs_new, 'artists' : artists_new})"
   ]
  },
  {
   "cell_type": "code",
   "execution_count": 179,
   "metadata": {},
   "outputs": [],
   "source": [
    "table.index += 1"
   ]
  },
  {
   "cell_type": "code",
   "execution_count": 180,
   "metadata": {},
   "outputs": [
    {
     "data": {
      "text/html": [
       "<div>\n",
       "<style scoped>\n",
       "    .dataframe tbody tr th:only-of-type {\n",
       "        vertical-align: middle;\n",
       "    }\n",
       "\n",
       "    .dataframe tbody tr th {\n",
       "        vertical-align: top;\n",
       "    }\n",
       "\n",
       "    .dataframe thead th {\n",
       "        text-align: right;\n",
       "    }\n",
       "</style>\n",
       "<table border=\"1\" class=\"dataframe\">\n",
       "  <thead>\n",
       "    <tr style=\"text-align: right;\">\n",
       "      <th></th>\n",
       "      <th>title</th>\n",
       "      <th>artists</th>\n",
       "    </tr>\n",
       "  </thead>\n",
       "  <tbody>\n",
       "    <tr>\n",
       "      <th>1</th>\n",
       "      <td>Wellerman - Sea Shanty / 220 KID x Billen Ted ...</td>\n",
       "      <td>Nathan Evans</td>\n",
       "    </tr>\n",
       "    <tr>\n",
       "      <th>2</th>\n",
       "      <td>Wellerman - Sea Shanty</td>\n",
       "      <td>Nathan Evans</td>\n",
       "    </tr>\n",
       "    <tr>\n",
       "      <th>3</th>\n",
       "      <td>SugarCrash!</td>\n",
       "      <td>ElyOtto</td>\n",
       "    </tr>\n",
       "    <tr>\n",
       "      <th>4</th>\n",
       "      <td>Astronaut In The Ocean</td>\n",
       "      <td>Masked Wolf</td>\n",
       "    </tr>\n",
       "    <tr>\n",
       "      <th>5</th>\n",
       "      <td>HEARTBREAK ANNIVERSARY</td>\n",
       "      <td>Giveon</td>\n",
       "    </tr>\n",
       "    <tr>\n",
       "      <th>6</th>\n",
       "      <td>Kota</td>\n",
       "      <td>Dere</td>\n",
       "    </tr>\n",
       "    <tr>\n",
       "      <th>7</th>\n",
       "      <td>Tokyo</td>\n",
       "      <td>Leat'eq</td>\n",
       "    </tr>\n",
       "    <tr>\n",
       "      <th>8</th>\n",
       "      <td>telepatía</td>\n",
       "      <td>Kali Uchis</td>\n",
       "    </tr>\n",
       "    <tr>\n",
       "      <th>9</th>\n",
       "      <td>I'm Missing You</td>\n",
       "      <td>Sunjae</td>\n",
       "    </tr>\n",
       "    <tr>\n",
       "      <th>10</th>\n",
       "      <td>Starlight</td>\n",
       "      <td>CHA NI (SF9)</td>\n",
       "    </tr>\n",
       "    <tr>\n",
       "      <th>11</th>\n",
       "      <td>Weak</td>\n",
       "      <td>Larissa Lambert</td>\n",
       "    </tr>\n",
       "    <tr>\n",
       "      <th>12</th>\n",
       "      <td>So Pretty</td>\n",
       "      <td>Reyanna Maria</td>\n",
       "    </tr>\n",
       "    <tr>\n",
       "      <th>13</th>\n",
       "      <td>Tapão Na Raba</td>\n",
       "      <td>Raí Saia Rodada</td>\n",
       "    </tr>\n",
       "    <tr>\n",
       "      <th>14</th>\n",
       "      <td>Deus Me Proteja</td>\n",
       "      <td>Chico César</td>\n",
       "    </tr>\n",
       "    <tr>\n",
       "      <th>15</th>\n",
       "      <td>C.H.R.I.S.Y.E.</td>\n",
       "      <td>Diskoria, Laleilmanino, Eva Celia</td>\n",
       "    </tr>\n",
       "    <tr>\n",
       "      <th>16</th>\n",
       "      <td>Tomboy</td>\n",
       "      <td>Destiny Rogers</td>\n",
       "    </tr>\n",
       "    <tr>\n",
       "      <th>17</th>\n",
       "      <td>ROLLIN N CONTROLLIN FREESTYLE</td>\n",
       "      <td>DUSTY LOCANE</td>\n",
       "    </tr>\n",
       "    <tr>\n",
       "      <th>18</th>\n",
       "      <td>drivers license</td>\n",
       "      <td>Olivia Rodrigo</td>\n",
       "    </tr>\n",
       "    <tr>\n",
       "      <th>19</th>\n",
       "      <td>Kül</td>\n",
       "      <td>Cem Adrian, Mark Eliyahu</td>\n",
       "    </tr>\n",
       "    <tr>\n",
       "      <th>20</th>\n",
       "      <td>Ghalat Fehmi - From \"Superstar\"</td>\n",
       "      <td>Asim Azhar, Zenab Fatimah Sultan</td>\n",
       "    </tr>\n",
       "    <tr>\n",
       "      <th>21</th>\n",
       "      <td>I'm not Pretty</td>\n",
       "      <td>JESSIA</td>\n",
       "    </tr>\n",
       "    <tr>\n",
       "      <th>22</th>\n",
       "      <td>Believe Me</td>\n",
       "      <td>Navos</td>\n",
       "    </tr>\n",
       "    <tr>\n",
       "      <th>23</th>\n",
       "      <td>Hadal Ahbek</td>\n",
       "      <td>Issam Alnajjar</td>\n",
       "    </tr>\n",
       "    <tr>\n",
       "      <th>24</th>\n",
       "      <td>LA CANZONE NOSTRA ⟁ ︎(con BLANCO &amp; SALMO)</td>\n",
       "      <td>MACE</td>\n",
       "    </tr>\n",
       "    <tr>\n",
       "      <th>25</th>\n",
       "      <td>Subwoofer</td>\n",
       "      <td>SHINSKY x DIMA</td>\n",
       "    </tr>\n",
       "    <tr>\n",
       "      <th>26</th>\n",
       "      <td>Friday (feat. Mufasa &amp; Hypeman) - Dopamine Re-...</td>\n",
       "      <td>Riton, Nightcrawlers</td>\n",
       "    </tr>\n",
       "    <tr>\n",
       "      <th>27</th>\n",
       "      <td>Pierre</td>\n",
       "      <td>Ryn Weaver</td>\n",
       "    </tr>\n",
       "    <tr>\n",
       "      <th>28</th>\n",
       "      <td>Esquema Preferido</td>\n",
       "      <td>DJ Ivis, Tarcísio do Acordeon</td>\n",
       "    </tr>\n",
       "    <tr>\n",
       "      <th>29</th>\n",
       "      <td>Your Love (9PM)</td>\n",
       "      <td>ATB, Topic, A7S</td>\n",
       "    </tr>\n",
       "    <tr>\n",
       "      <th>30</th>\n",
       "      <td>Xerecard</td>\n",
       "      <td>Jeff Costa, Mc Danny</td>\n",
       "    </tr>\n",
       "    <tr>\n",
       "      <th>31</th>\n",
       "      <td>Hylander</td>\n",
       "      <td>Abbot, somynem.grin</td>\n",
       "    </tr>\n",
       "    <tr>\n",
       "      <th>32</th>\n",
       "      <td>Do A Bitch</td>\n",
       "      <td>Kali</td>\n",
       "    </tr>\n",
       "    <tr>\n",
       "      <th>33</th>\n",
       "      <td>Palma da Mão no Chão</td>\n",
       "      <td>Gil Bala</td>\n",
       "    </tr>\n",
       "    <tr>\n",
       "      <th>34</th>\n",
       "      <td>Knock Knock</td>\n",
       "      <td>SoFaygo</td>\n",
       "    </tr>\n",
       "    <tr>\n",
       "      <th>35</th>\n",
       "      <td>Panalo (Trap Cariñosa)</td>\n",
       "      <td>Ez Mil</td>\n",
       "    </tr>\n",
       "    <tr>\n",
       "      <th>36</th>\n",
       "      <td>Violent</td>\n",
       "      <td>carolesdaughter</td>\n",
       "    </tr>\n",
       "    <tr>\n",
       "      <th>37</th>\n",
       "      <td>Blue Jeans</td>\n",
       "      <td>GANGGA</td>\n",
       "    </tr>\n",
       "    <tr>\n",
       "      <th>38</th>\n",
       "      <td>VIVID VICE</td>\n",
       "      <td>Who-ya Extended</td>\n",
       "    </tr>\n",
       "    <tr>\n",
       "      <th>39</th>\n",
       "      <td>Jealous</td>\n",
       "      <td>Eyedress</td>\n",
       "    </tr>\n",
       "    <tr>\n",
       "      <th>40</th>\n",
       "      <td>Streets</td>\n",
       "      <td>Doja Cat</td>\n",
       "    </tr>\n",
       "    <tr>\n",
       "      <th>41</th>\n",
       "      <td>Save Your Tears</td>\n",
       "      <td>The Weeknd</td>\n",
       "    </tr>\n",
       "    <tr>\n",
       "      <th>42</th>\n",
       "      <td>Throat Baby (Go Baby) (with DaBaby &amp; City Girl...</td>\n",
       "      <td>BRS Kash</td>\n",
       "    </tr>\n",
       "    <tr>\n",
       "      <th>43</th>\n",
       "      <td>I Am (feat. Flo Milli)</td>\n",
       "      <td>Yung Baby Tate, Slade Da Monsta</td>\n",
       "    </tr>\n",
       "    <tr>\n",
       "      <th>44</th>\n",
       "      <td>Mi Trokita Cumbia</td>\n",
       "      <td>Obzesion</td>\n",
       "    </tr>\n",
       "    <tr>\n",
       "      <th>45</th>\n",
       "      <td>Paparazzi</td>\n",
       "      <td>Kim Dracula</td>\n",
       "    </tr>\n",
       "    <tr>\n",
       "      <th>46</th>\n",
       "      <td>Als Ik Je Weer Zie</td>\n",
       "      <td>Thomas Acda, Paul de Munnik, Maan, Typhoon</td>\n",
       "    </tr>\n",
       "    <tr>\n",
       "      <th>47</th>\n",
       "      <td>Saturno</td>\n",
       "      <td>BIN, Mainstreet, Ajaxx</td>\n",
       "    </tr>\n",
       "    <tr>\n",
       "      <th>48</th>\n",
       "      <td>Best Friend (feat. Doja Cat)</td>\n",
       "      <td>Saweetie</td>\n",
       "    </tr>\n",
       "    <tr>\n",
       "      <th>49</th>\n",
       "      <td>Brown Munde</td>\n",
       "      <td>AP Dhillon, Gminxr, Gurinder Gill, Shinda Kahlon</td>\n",
       "    </tr>\n",
       "    <tr>\n",
       "      <th>50</th>\n",
       "      <td>Katakan Saja</td>\n",
       "      <td>Khifnu</td>\n",
       "    </tr>\n",
       "  </tbody>\n",
       "</table>\n",
       "</div>"
      ],
      "text/plain": [
       "                                                title  \\\n",
       "1   Wellerman - Sea Shanty / 220 KID x Billen Ted ...   \n",
       "2                              Wellerman - Sea Shanty   \n",
       "3                                         SugarCrash!   \n",
       "4                              Astronaut In The Ocean   \n",
       "5                              HEARTBREAK ANNIVERSARY   \n",
       "6                                                Kota   \n",
       "7                                               Tokyo   \n",
       "8                                           telepatía   \n",
       "9                                     I'm Missing You   \n",
       "10                                          Starlight   \n",
       "11                                               Weak   \n",
       "12                                          So Pretty   \n",
       "13                                      Tapão Na Raba   \n",
       "14                                    Deus Me Proteja   \n",
       "15                                     C.H.R.I.S.Y.E.   \n",
       "16                                             Tomboy   \n",
       "17                      ROLLIN N CONTROLLIN FREESTYLE   \n",
       "18                                    drivers license   \n",
       "19                                                Kül   \n",
       "20                    Ghalat Fehmi - From \"Superstar\"   \n",
       "21                                     I'm not Pretty   \n",
       "22                                         Believe Me   \n",
       "23                                        Hadal Ahbek   \n",
       "24          LA CANZONE NOSTRA ⟁ ︎(con BLANCO & SALMO)   \n",
       "25                                          Subwoofer   \n",
       "26  Friday (feat. Mufasa & Hypeman) - Dopamine Re-...   \n",
       "27                                             Pierre   \n",
       "28                                  Esquema Preferido   \n",
       "29                                    Your Love (9PM)   \n",
       "30                                           Xerecard   \n",
       "31                                           Hylander   \n",
       "32                                         Do A Bitch   \n",
       "33                               Palma da Mão no Chão   \n",
       "34                                        Knock Knock   \n",
       "35                             Panalo (Trap Cariñosa)   \n",
       "36                                            Violent   \n",
       "37                                         Blue Jeans   \n",
       "38                                         VIVID VICE   \n",
       "39                                            Jealous   \n",
       "40                                            Streets   \n",
       "41                                    Save Your Tears   \n",
       "42  Throat Baby (Go Baby) (with DaBaby & City Girl...   \n",
       "43                             I Am (feat. Flo Milli)   \n",
       "44                                  Mi Trokita Cumbia   \n",
       "45                                          Paparazzi   \n",
       "46                                 Als Ik Je Weer Zie   \n",
       "47                                            Saturno   \n",
       "48                       Best Friend (feat. Doja Cat)   \n",
       "49                                        Brown Munde   \n",
       "50                                       Katakan Saja   \n",
       "\n",
       "                                              artists  \n",
       "1                                        Nathan Evans  \n",
       "2                                        Nathan Evans  \n",
       "3                                             ElyOtto  \n",
       "4                                         Masked Wolf  \n",
       "5                                              Giveon  \n",
       "6                                                Dere  \n",
       "7                                             Leat'eq  \n",
       "8                                          Kali Uchis  \n",
       "9                                              Sunjae  \n",
       "10                                       CHA NI (SF9)  \n",
       "11                                    Larissa Lambert  \n",
       "12                                      Reyanna Maria  \n",
       "13                                    Raí Saia Rodada  \n",
       "14                                        Chico César  \n",
       "15                  Diskoria, Laleilmanino, Eva Celia  \n",
       "16                                     Destiny Rogers  \n",
       "17                                       DUSTY LOCANE  \n",
       "18                                     Olivia Rodrigo  \n",
       "19                           Cem Adrian, Mark Eliyahu  \n",
       "20                   Asim Azhar, Zenab Fatimah Sultan  \n",
       "21                                             JESSIA  \n",
       "22                                              Navos  \n",
       "23                                     Issam Alnajjar  \n",
       "24                                               MACE  \n",
       "25                                     SHINSKY x DIMA  \n",
       "26                               Riton, Nightcrawlers  \n",
       "27                                         Ryn Weaver  \n",
       "28                      DJ Ivis, Tarcísio do Acordeon  \n",
       "29                                    ATB, Topic, A7S  \n",
       "30                               Jeff Costa, Mc Danny  \n",
       "31                                Abbot, somynem.grin  \n",
       "32                                               Kali  \n",
       "33                                           Gil Bala  \n",
       "34                                            SoFaygo  \n",
       "35                                             Ez Mil  \n",
       "36                                    carolesdaughter  \n",
       "37                                             GANGGA  \n",
       "38                                    Who-ya Extended  \n",
       "39                                           Eyedress  \n",
       "40                                           Doja Cat  \n",
       "41                                         The Weeknd  \n",
       "42                                           BRS Kash  \n",
       "43                    Yung Baby Tate, Slade Da Monsta  \n",
       "44                                           Obzesion  \n",
       "45                                        Kim Dracula  \n",
       "46         Thomas Acda, Paul de Munnik, Maan, Typhoon  \n",
       "47                             BIN, Mainstreet, Ajaxx  \n",
       "48                                           Saweetie  \n",
       "49   AP Dhillon, Gminxr, Gurinder Gill, Shinda Kahlon  \n",
       "50                                             Khifnu  "
      ]
     },
     "execution_count": 180,
     "metadata": {},
     "output_type": "execute_result"
    }
   ],
   "source": [
    "table"
   ]
  },
  {
   "cell_type": "code",
   "execution_count": 181,
   "metadata": {},
   "outputs": [],
   "source": [
    "#this didnt work\n",
    "#table['title'].strip()   #replace('\\n','')"
   ]
  },
  {
   "cell_type": "code",
   "execution_count": 153,
   "metadata": {},
   "outputs": [],
   "source": [
    "#def my_par_strip_fct(x):\n",
    "#    return int(x.rstrip())\n",
    "\n",
    "#table['title'].apply(my_par_strip_fct)"
   ]
  },
  {
   "cell_type": "code",
   "execution_count": 182,
   "metadata": {},
   "outputs": [],
   "source": [
    "big_table = pd.concat([df, table], ignore_index=True, sort=False)"
   ]
  },
  {
   "cell_type": "code",
   "execution_count": 183,
   "metadata": {
    "scrolled": true
   },
   "outputs": [
    {
     "data": {
      "text/html": [
       "<div>\n",
       "<style scoped>\n",
       "    .dataframe tbody tr th:only-of-type {\n",
       "        vertical-align: middle;\n",
       "    }\n",
       "\n",
       "    .dataframe tbody tr th {\n",
       "        vertical-align: top;\n",
       "    }\n",
       "\n",
       "    .dataframe thead th {\n",
       "        text-align: right;\n",
       "    }\n",
       "</style>\n",
       "<table border=\"1\" class=\"dataframe\">\n",
       "  <thead>\n",
       "    <tr style=\"text-align: right;\">\n",
       "      <th></th>\n",
       "      <th>title</th>\n",
       "      <th>artists</th>\n",
       "    </tr>\n",
       "  </thead>\n",
       "  <tbody>\n",
       "    <tr>\n",
       "      <th>0</th>\n",
       "      <td>Drivers License</td>\n",
       "      <td>Olivia Rodrigo</td>\n",
       "    </tr>\n",
       "    <tr>\n",
       "      <th>1</th>\n",
       "      <td>Up</td>\n",
       "      <td>Cardi B</td>\n",
       "    </tr>\n",
       "    <tr>\n",
       "      <th>2</th>\n",
       "      <td>Blinding Lights</td>\n",
       "      <td>The Weeknd</td>\n",
       "    </tr>\n",
       "    <tr>\n",
       "      <th>3</th>\n",
       "      <td>Save Your Tears</td>\n",
       "      <td>The Weeknd</td>\n",
       "    </tr>\n",
       "    <tr>\n",
       "      <th>4</th>\n",
       "      <td>Mood</td>\n",
       "      <td>24kGoldn Featuring iann dior</td>\n",
       "    </tr>\n",
       "    <tr>\n",
       "      <th>...</th>\n",
       "      <td>...</td>\n",
       "      <td>...</td>\n",
       "    </tr>\n",
       "    <tr>\n",
       "      <th>145</th>\n",
       "      <td>Als Ik Je Weer Zie</td>\n",
       "      <td>Thomas Acda, Paul de Munnik, Maan, Typhoon</td>\n",
       "    </tr>\n",
       "    <tr>\n",
       "      <th>146</th>\n",
       "      <td>Saturno</td>\n",
       "      <td>BIN, Mainstreet, Ajaxx</td>\n",
       "    </tr>\n",
       "    <tr>\n",
       "      <th>147</th>\n",
       "      <td>Best Friend (feat. Doja Cat)</td>\n",
       "      <td>Saweetie</td>\n",
       "    </tr>\n",
       "    <tr>\n",
       "      <th>148</th>\n",
       "      <td>Brown Munde</td>\n",
       "      <td>AP Dhillon, Gminxr, Gurinder Gill, Shinda Kahlon</td>\n",
       "    </tr>\n",
       "    <tr>\n",
       "      <th>149</th>\n",
       "      <td>Katakan Saja</td>\n",
       "      <td>Khifnu</td>\n",
       "    </tr>\n",
       "  </tbody>\n",
       "</table>\n",
       "<p>150 rows × 2 columns</p>\n",
       "</div>"
      ],
      "text/plain": [
       "                            title  \\\n",
       "0                 Drivers License   \n",
       "1                              Up   \n",
       "2                 Blinding Lights   \n",
       "3                 Save Your Tears   \n",
       "4                            Mood   \n",
       "..                            ...   \n",
       "145            Als Ik Je Weer Zie   \n",
       "146                       Saturno   \n",
       "147  Best Friend (feat. Doja Cat)   \n",
       "148                   Brown Munde   \n",
       "149                  Katakan Saja   \n",
       "\n",
       "                                               artists  \n",
       "0                                       Olivia Rodrigo  \n",
       "1                                              Cardi B  \n",
       "2                                           The Weeknd  \n",
       "3                                           The Weeknd  \n",
       "4                         24kGoldn Featuring iann dior  \n",
       "..                                                 ...  \n",
       "145         Thomas Acda, Paul de Munnik, Maan, Typhoon  \n",
       "146                             BIN, Mainstreet, Ajaxx  \n",
       "147                                           Saweetie  \n",
       "148   AP Dhillon, Gminxr, Gurinder Gill, Shinda Kahlon  \n",
       "149                                             Khifnu  \n",
       "\n",
       "[150 rows x 2 columns]"
      ]
     },
     "execution_count": 183,
     "metadata": {},
     "output_type": "execute_result"
    }
   ],
   "source": [
    "big_table"
   ]
  },
  {
   "cell_type": "code",
   "execution_count": 184,
   "metadata": {},
   "outputs": [],
   "source": [
    "big_table.index += 1"
   ]
  },
  {
   "cell_type": "code",
   "execution_count": 186,
   "metadata": {},
   "outputs": [
    {
     "data": {
      "text/html": [
       "<div>\n",
       "<style scoped>\n",
       "    .dataframe tbody tr th:only-of-type {\n",
       "        vertical-align: middle;\n",
       "    }\n",
       "\n",
       "    .dataframe tbody tr th {\n",
       "        vertical-align: top;\n",
       "    }\n",
       "\n",
       "    .dataframe thead th {\n",
       "        text-align: right;\n",
       "    }\n",
       "</style>\n",
       "<table border=\"1\" class=\"dataframe\">\n",
       "  <thead>\n",
       "    <tr style=\"text-align: right;\">\n",
       "      <th></th>\n",
       "      <th>title</th>\n",
       "      <th>artists</th>\n",
       "    </tr>\n",
       "  </thead>\n",
       "  <tbody>\n",
       "    <tr>\n",
       "      <th>1</th>\n",
       "      <td>Drivers License</td>\n",
       "      <td>Olivia Rodrigo</td>\n",
       "    </tr>\n",
       "    <tr>\n",
       "      <th>2</th>\n",
       "      <td>Up</td>\n",
       "      <td>Cardi B</td>\n",
       "    </tr>\n",
       "    <tr>\n",
       "      <th>3</th>\n",
       "      <td>Blinding Lights</td>\n",
       "      <td>The Weeknd</td>\n",
       "    </tr>\n",
       "    <tr>\n",
       "      <th>4</th>\n",
       "      <td>Save Your Tears</td>\n",
       "      <td>The Weeknd</td>\n",
       "    </tr>\n",
       "    <tr>\n",
       "      <th>5</th>\n",
       "      <td>Mood</td>\n",
       "      <td>24kGoldn Featuring iann dior</td>\n",
       "    </tr>\n",
       "    <tr>\n",
       "      <th>...</th>\n",
       "      <td>...</td>\n",
       "      <td>...</td>\n",
       "    </tr>\n",
       "    <tr>\n",
       "      <th>146</th>\n",
       "      <td>Als Ik Je Weer Zie</td>\n",
       "      <td>Thomas Acda, Paul de Munnik, Maan, Typhoon</td>\n",
       "    </tr>\n",
       "    <tr>\n",
       "      <th>147</th>\n",
       "      <td>Saturno</td>\n",
       "      <td>BIN, Mainstreet, Ajaxx</td>\n",
       "    </tr>\n",
       "    <tr>\n",
       "      <th>148</th>\n",
       "      <td>Best Friend (feat. Doja Cat)</td>\n",
       "      <td>Saweetie</td>\n",
       "    </tr>\n",
       "    <tr>\n",
       "      <th>149</th>\n",
       "      <td>Brown Munde</td>\n",
       "      <td>AP Dhillon, Gminxr, Gurinder Gill, Shinda Kahlon</td>\n",
       "    </tr>\n",
       "    <tr>\n",
       "      <th>150</th>\n",
       "      <td>Katakan Saja</td>\n",
       "      <td>Khifnu</td>\n",
       "    </tr>\n",
       "  </tbody>\n",
       "</table>\n",
       "<p>150 rows × 2 columns</p>\n",
       "</div>"
      ],
      "text/plain": [
       "                            title  \\\n",
       "1                 Drivers License   \n",
       "2                              Up   \n",
       "3                 Blinding Lights   \n",
       "4                 Save Your Tears   \n",
       "5                            Mood   \n",
       "..                            ...   \n",
       "146            Als Ik Je Weer Zie   \n",
       "147                       Saturno   \n",
       "148  Best Friend (feat. Doja Cat)   \n",
       "149                   Brown Munde   \n",
       "150                  Katakan Saja   \n",
       "\n",
       "                                               artists  \n",
       "1                                       Olivia Rodrigo  \n",
       "2                                              Cardi B  \n",
       "3                                           The Weeknd  \n",
       "4                                           The Weeknd  \n",
       "5                         24kGoldn Featuring iann dior  \n",
       "..                                                 ...  \n",
       "146         Thomas Acda, Paul de Munnik, Maan, Typhoon  \n",
       "147                             BIN, Mainstreet, Ajaxx  \n",
       "148                                           Saweetie  \n",
       "149   AP Dhillon, Gminxr, Gurinder Gill, Shinda Kahlon  \n",
       "150                                             Khifnu  \n",
       "\n",
       "[150 rows x 2 columns]"
      ]
     },
     "execution_count": 186,
     "metadata": {},
     "output_type": "execute_result"
    }
   ],
   "source": [
    "big_table"
   ]
  },
  {
   "cell_type": "code",
   "execution_count": null,
   "metadata": {},
   "outputs": [],
   "source": []
  }
 ],
 "metadata": {
  "kernelspec": {
   "display_name": "Python 3",
   "language": "python",
   "name": "python3"
  },
  "language_info": {
   "codemirror_mode": {
    "name": "ipython",
    "version": 3
   },
   "file_extension": ".py",
   "mimetype": "text/x-python",
   "name": "python",
   "nbconvert_exporter": "python",
   "pygments_lexer": "ipython3",
   "version": "3.8.5"
  }
 },
 "nbformat": 4,
 "nbformat_minor": 4
}
